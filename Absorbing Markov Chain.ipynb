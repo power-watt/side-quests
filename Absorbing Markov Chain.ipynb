{
 "cells": [
  {
   "cell_type": "markdown",
   "metadata": {},
   "source": [
    "# Absorbing Markov Chains\n",
    "[See Wikiepdia](https://en.wikipedia.org/wiki/Absorbing_Markov_chain) <br>\n",
    "1) There is at least one absorving state and <br>\n",
    "2) It is possible to go from any state to at least one absorbing state in a finite number of steps\n",
    "$$  P=\\begin{pmatrix}\n",
    "Q & R\\\\ \n",
    "0 & I_{r}\n",
    "\\end{pmatrix} $$"
   ]
  },
  {
   "cell_type": "markdown",
   "metadata": {},
   "source": [
    "## Example\n",
    "$$\n",
    "P = \\begin{bmatrix}\n",
    "0 & \\frac{2}{3} & \\frac{1}{3}  & 0 & 0\\\\ \n",
    "\\frac{1}{7} & 0 & 0 & \\frac{2}{7} & \\frac{4}{7}\\\\ \n",
    "0 & 0 & 1 & 0 & 0\\\\ \n",
    "0 & 0 & 0 & 1 & 0\\\\ \n",
    "0 & 0 & 0 & 0 & 1\n",
    "\\end{bmatrix}\n",
    "$$\n",
    "Rows 0 and 1 are transition sates <br>\n",
    "Rows 2, 3, and 4 are absorbing states\n",
    "$$\n",
    "Q = \\begin{bmatrix}\n",
    "0 & \\frac{2}{3} \\\\ \n",
    "\\frac{1}{7} & 0 \n",
    "\\end{bmatrix} \n",
    "\\; \\; \\; \n",
    "R = \\begin{bmatrix}\n",
    "\\frac{1}{3}  & 0 & 0\\\\ \n",
    "0 & \\frac{2}{7} & \\frac{4}{7}\n",
    "\\end{bmatrix}\n",
    "\\; \\; \\; \n",
    "I_{r} = \\begin{bmatrix}\n",
    "1 & 0 & 0\\\\ \n",
    "0 & 1 & 0\\\\ \n",
    "0 & 0 & 1\n",
    "\\end{bmatrix}\n",
    "$$\n"
   ]
  },
  {
   "cell_type": "code",
   "execution_count": 72,
   "metadata": {
    "collapsed": true
   },
   "outputs": [],
   "source": [
    "import numpy as np\n",
    "import numpy.linalg as alg"
   ]
  },
  {
   "cell_type": "code",
   "execution_count": 73,
   "metadata": {},
   "outputs": [
    {
     "name": "stdout",
     "output_type": "stream",
     "text": [
      "P = [[ 0.          0.66666667  0.33333333  0.          0.        ]\n",
      " [ 0.14285714  0.          0.          0.28571429  0.57142857]\n",
      " [ 0.          0.          1.          0.          0.        ]\n",
      " [ 0.          0.          0.          1.          0.        ]\n",
      " [ 0.          0.          0.          0.          1.        ]]\n"
     ]
    }
   ],
   "source": [
    "P = np.array([[0, 2/3, 1/3, 0, 0],\n",
    "              [1/7, 0, 0, 2/7, 4/7],\n",
    "              [0, 0, 1, 0, 0],\n",
    "              [0, 0, 0, 1, 0],\n",
    "              [0, 0, 0, 0, 1]])\n",
    "# Below is another example matrix you could use\n",
    "P2 = np.array([[1/2, 1/2, 0 ,0],\n",
    "              [0, 1/2, 1/2, 0],\n",
    "              [1/2, 0, 0, 1/2],\n",
    "              [0, 0, 0, 1]])\n",
    "print(\"P = {}\".format(P))\n"
   ]
  },
  {
   "cell_type": "code",
   "execution_count": 74,
   "metadata": {},
   "outputs": [],
   "source": [
    "# Get sizing and dimensions\n",
    "Psize = len(P)\n",
    "for index, r in enumerate(P):\n",
    "    if r[index] == 1:\n",
    "        absorbingStates = Psize - index\n",
    "        break\n",
    "Qsize = Psize - absorbingStates        "
   ]
  },
  {
   "cell_type": "code",
   "execution_count": 75,
   "metadata": {},
   "outputs": [
    {
     "name": "stdout",
     "output_type": "stream",
     "text": [
      "Q = [[ 0.          0.66666667]\n",
      " [ 0.14285714  0.        ]]\n",
      "R = [[ 0.33333333  0.          0.        ]\n",
      " [ 0.          0.28571429  0.57142857]]\n",
      "Ir = [[ 1.  0.  0.]\n",
      " [ 0.  1.  0.]\n",
      " [ 0.  0.  1.]]\n"
     ]
    }
   ],
   "source": [
    "Q = P[0:Qsize, 0:Qsize]\n",
    "R = P[0:Qsize, Qsize:]\n",
    "Ir = np.identity(absorbingStates)\n",
    "\n",
    "print(\"Q = {}\".format(Q))\n",
    "print(\"R = {}\".format(R))\n",
    "print(\"Ir = {}\".format(Ir))"
   ]
  },
  {
   "cell_type": "markdown",
   "metadata": {},
   "source": [
    "### Fundamental Matrix\n",
    "$$ N = (I_{t} - Q)^{-1} $$\n",
    "Where $N_{i, j}$ is the expected number of times the chain visits state $j$ when starting in state $i$."
   ]
  },
  {
   "cell_type": "code",
   "execution_count": 76,
   "metadata": {},
   "outputs": [
    {
     "name": "stdout",
     "output_type": "stream",
     "text": [
      "N = [[ 1.10526316  0.73684211]\n",
      " [ 0.15789474  1.10526316]]\n"
     ]
    }
   ],
   "source": [
    "It = np.identity(Qsize)\n",
    "N = alg.inv(It - Q)\n",
    "print(\"N = {}\".format(N))\n"
   ]
  },
  {
   "cell_type": "markdown",
   "metadata": {},
   "source": [
    "### Expected Number of Steps\n",
    "$$t = N1$$\n",
    "Where $t_{i}$ is the expected number of steps before being absorbed when starting in transient state $i$."
   ]
  },
  {
   "cell_type": "code",
   "execution_count": 77,
   "metadata": {},
   "outputs": [
    {
     "name": "stdout",
     "output_type": "stream",
     "text": [
      "t = [ 1.84210526  1.26315789]\n"
     ]
    }
   ],
   "source": [
    "one = np.ones(Qsize)\n",
    "t = np.matmul(N,one)\n",
    "print(\"t = {}\".format(t))"
   ]
  },
  {
   "cell_type": "markdown",
   "metadata": {},
   "source": [
    "### Absorbing Probabilities\n",
    "$$ B = NR $$\n",
    "Where $B_{i, j}$ is the probability of ending in absorbing state $j$ when starting in transient state $i$."
   ]
  },
  {
   "cell_type": "code",
   "execution_count": 78,
   "metadata": {},
   "outputs": [
    {
     "name": "stdout",
     "output_type": "stream",
     "text": [
      "B = [[ 0.36842105  0.21052632  0.42105263]\n",
      " [ 0.05263158  0.31578947  0.63157895]]\n"
     ]
    }
   ],
   "source": [
    "B = np.matmul(N,R)\n",
    "print(\"B = {}\".format(B))"
   ]
  },
  {
   "cell_type": "code",
   "execution_count": null,
   "metadata": {
    "collapsed": true
   },
   "outputs": [],
   "source": []
  }
 ],
 "metadata": {
  "anaconda-cloud": {},
  "kernelspec": {
   "display_name": "Python [Root]",
   "language": "python",
   "name": "Python [Root]"
  },
  "language_info": {
   "codemirror_mode": {
    "name": "ipython",
    "version": 3
   },
   "file_extension": ".py",
   "mimetype": "text/x-python",
   "name": "python",
   "nbconvert_exporter": "python",
   "pygments_lexer": "ipython3",
   "version": "3.5.3"
  }
 },
 "nbformat": 4,
 "nbformat_minor": 1
}
