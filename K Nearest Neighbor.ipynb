{
 "cells": [
  {
   "cell_type": "markdown",
   "metadata": {},
   "source": [
    "# K-Nearest Neighbor (KNN)"
   ]
  },
  {
   "cell_type": "code",
   "execution_count": 1,
   "metadata": {
    "collapsed": true
   },
   "outputs": [],
   "source": [
    "# import packages\n",
    "import numpy as np\n",
    "import matplotlib.pyplot as plt\n",
    "%matplotlib inline"
   ]
  },
  {
   "cell_type": "code",
   "execution_count": 2,
   "metadata": {
    "collapsed": true
   },
   "outputs": [],
   "source": [
    "# Bring in some data to use\n",
    "import sklearn.datasets\n",
    "iris = sklearn.datasets.load_iris() # Good for Classification Examples\n",
    "x = iris.data # [sepal_length (cm), sepal_width (cm), petal_length (cm), petal_width (cem)]\n",
    "y = iris.target # [setosa, versicolor, virginica]"
   ]
  },
  {
   "cell_type": "code",
   "execution_count": 3,
   "metadata": {
    "collapsed": true
   },
   "outputs": [],
   "source": [
    "# split data for training and testing\n",
    "## training - used to build your model\n",
    "## testing - used to validate the model after it has been built\n",
    "from sklearn.model_selection import train_test_split\n",
    "x_train, x_test, y_train, y_test = train_test_split(x, y, test_size=0.6)"
   ]
  },
  {
   "cell_type": "markdown",
   "metadata": {},
   "source": [
    "## KNN by hand"
   ]
  },
  {
   "cell_type": "code",
   "execution_count": 4,
   "metadata": {
    "collapsed": true
   },
   "outputs": [],
   "source": [
    "# K = 1\n",
    "def KNN_by_hand(x̂):\n",
    "    r = []\n",
    "    for i in range(len(y_train)):\n",
    "        distance = np.sqrt(np.sum((x_train[i] - x̂)**2))        \n",
    "        r.append([distance, y_train[i]])\n",
    "\n",
    "    ŷ = sorted(r)\n",
    "    return ŷ[0][1]"
   ]
  },
  {
   "cell_type": "code",
   "execution_count": 5,
   "metadata": {
    "collapsed": true
   },
   "outputs": [],
   "source": [
    "def accuracy_by_hand(model):\n",
    "    score = 0\n",
    "    for i in range(len(y_test)):\n",
    "        ŷ = model(x_test[i])\n",
    "        if ŷ == y_test[i]:\n",
    "            score += 1\n",
    "    accuracy = score/len(y_test)\n",
    "    return accuracy"
   ]
  },
  {
   "cell_type": "code",
   "execution_count": 6,
   "metadata": {},
   "outputs": [
    {
     "name": "stdout",
     "output_type": "stream",
     "text": [
      "Accuracy of k = 1: 0.9666666666666667\n"
     ]
    }
   ],
   "source": [
    "print('Accuracy of k = 1: {}'.format(accuracy_by_hand(KNN_by_hand))) "
   ]
  },
  {
   "cell_type": "markdown",
   "metadata": {},
   "source": [
    "## KNN using sklearn"
   ]
  },
  {
   "cell_type": "code",
   "execution_count": 7,
   "metadata": {},
   "outputs": [
    {
     "name": "stdout",
     "output_type": "stream",
     "text": [
      "Accuracy of k = 5: 0.9666666666666667\n"
     ]
    }
   ],
   "source": [
    "from sklearn.neighbors import KNeighborsClassifier\n",
    "clf_knn = KNeighborsClassifier() # Initialize Classifier - n_neighbors=5 (default)\n",
    "clf_knn.fit(x_train, y_train) # Train\n",
    "ŷ = clf_knn.predict(x_test) # Predict\n",
    "\n",
    "from sklearn.metrics import accuracy_score\n",
    "accuracy = accuracy_score(y_test, ŷ) # Check results\n",
    "print('Accuracy of k = 5: {}'.format(accuracy)) "
   ]
  },
  {
   "cell_type": "markdown",
   "metadata": {},
   "source": [
    "### Question: What value of k should be used?"
   ]
  },
  {
   "cell_type": "code",
   "execution_count": 8,
   "metadata": {},
   "outputs": [
    {
     "data": {
      "image/png": "[encoded data removed]",
      "text/plain": [
       "<matplotlib.figure.Figure at 0x19066d48080>"
      ]
     },
     "metadata": {},
     "output_type": "display_data"
    }
   ],
   "source": [
    "krange = range(1,50)\n",
    "score = []\n",
    "for k in krange:\n",
    "    clf_knn = KNeighborsClassifier(n_neighbors=k) # Initialize Classifier\n",
    "    clf_knn.fit(x_train, y_train) # Train\n",
    "    ŷ = clf_knn.predict(x_test) # Predict\n",
    "    accuracy = accuracy_score(y_test, ŷ) # Check results\n",
    "    score.append(accuracy)\n",
    "\n",
    "plt.plot(krange, score)\n",
    "plt.plot([5,7],[max(score),max(score)], 'rx')\n",
    "plt.ylabel('score')\n",
    "plt.xlabel('k value')\n",
    "plt.show()"
   ]
  },
  {
   "cell_type": "markdown",
   "metadata": {},
   "source": [
    "The best fit is usually at k = 5 and k = 7 with ~3% error\n",
    "<br>\n",
    "k < 10 with ~5% error\n",
    "<br>\n",
    "k > 10 wtih ~10% error\n",
    "<br>\n",
    "k > 30 with ~50% error"
   ]
  },
  {
   "cell_type": "code",
   "execution_count": null,
   "metadata": {
    "collapsed": true
   },
   "outputs": [],
   "source": []
  }
 ],
 "metadata": {
  "kernelspec": {
   "display_name": "Python [Root]",
   "language": "python",
   "name": "Python [Root]"
  },
  "language_info": {
   "codemirror_mode": {
    "name": "ipython",
    "version": 3
   },
   "file_extension": ".py",
   "mimetype": "text/x-python",
   "name": "python",
   "nbconvert_exporter": "python",
   "pygments_lexer": "ipython3",
   "version": "3.5.3"
  }
 },
 "nbformat": 4,
 "nbformat_minor": 2
}
