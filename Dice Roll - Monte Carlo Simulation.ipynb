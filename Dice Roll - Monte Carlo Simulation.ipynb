{
 "cells": [
  {
   "cell_type": "markdown",
   "metadata": {},
   "source": [
    "# Dice Rolling Challenge - Monte Carlo Simulation\n",
    "One day my friend was like \"If one person rolled two dice and another rolled three, what is the probability that the person with two dice would win?\" If there is a tie, the person with two wins. To make things interesting we the winner would have to win the best two out of three rounds.\n",
    "<br> <br>\n",
    "We ended up deciding on a monte carlo method to get an idea of what the probability is."
   ]
  },
  {
   "cell_type": "code",
   "execution_count": 42,
   "metadata": {
    "collapsed": true
   },
   "outputs": [],
   "source": [
    "import numpy as np\n",
    "import matplotlib.pyplot as plt\n",
    "%matplotlib inline"
   ]
  },
  {
   "cell_type": "code",
   "execution_count": 43,
   "metadata": {
    "collapsed": true
   },
   "outputs": [],
   "source": [
    "def rollDice(s):\n",
    "    score = 0\n",
    "\n",
    "    for i in range(s):\n",
    "        win = 0 \n",
    "        for j in range(3):\n",
    "            p1 = np.random.randint(1,7) + np.random.randint(1,7)\n",
    "            p2 = np.random.randint(1,7) + np.random.randint(1,7) + np.random.randint(1,7)\n",
    "            if p1 >= p2:\n",
    "                win += 1\n",
    "        if win >= 2:\n",
    "            score += 1\n",
    "    return score"
   ]
  },
  {
   "cell_type": "code",
   "execution_count": 44,
   "metadata": {},
   "outputs": [],
   "source": [
    "replicates = 200 # number of simulations\n",
    "simulationSize = 2000 # number of games played in a simulation\n",
    "results = np.array([rollDice(simulationSize) for i in range(replicates)]) # perform the simulation"
   ]
  },
  {
   "cell_type": "code",
   "execution_count": 45,
   "metadata": {
    "scrolled": true
   },
   "outputs": [
    {
     "data": {
      "image/png": "[encoded data removed]",
      "text/plain": [
       "<matplotlib.figure.Figure at 0x1af727fb0b8>"
      ]
     },
     "metadata": {},
     "output_type": "display_data"
    },
    {
     "name": "stdout",
     "output_type": "stream",
     "text": [
      "Average percentage of the two dice holder winning two out of three rounds: 12.532%\n"
     ]
    }
   ],
   "source": [
    "winPercentage = 100 * results/simulationSize # win percentage of each simulation\n",
    "averageWinPercentage = np.mean(winPercentage) # average win percentage of all simulations\n",
    "\n",
    "plt.hist(winPercentage)\n",
    "plt.axvline(averageWinPercentage, color='r', linestyle='dashed', linewidth=3)\n",
    "plt.xlabel('Percentage of winning')\n",
    "plt.ylabel('Frequency of result')\n",
    "plt.show()\n",
    "\n",
    "print('Average percentage of the two dice holder winning two out of three rounds: {0:.3f}%'.format(averageWinPercentage))"
   ]
  },
  {
   "cell_type": "code",
   "execution_count": null,
   "metadata": {
    "collapsed": true
   },
   "outputs": [],
   "source": []
  }
 ],
 "metadata": {
  "kernelspec": {
   "display_name": "Python [Root]",
   "language": "python",
   "name": "Python [Root]"
  },
  "language_info": {
   "codemirror_mode": {
    "name": "ipython",
    "version": 3
   },
   "file_extension": ".py",
   "mimetype": "text/x-python",
   "name": "python",
   "nbconvert_exporter": "python",
   "pygments_lexer": "ipython3",
   "version": "3.5.3"
  }
 },
 "nbformat": 4,
 "nbformat_minor": 1
}
